{
 "cells": [
  {
   "cell_type": "code",
   "execution_count": 20,
   "source": [
    "#TASK 1\r\n",
    "\r\n",
    "pizza = str(input(\"Do you want to order Pizza? (yes/no)\"))\r\n",
    "\r\n",
    "if pizza == \"yes\":\r\n",
    "    base = str(input(\"Do you want a tomato or bbq base?\"))\r\n",
    "else:\r\n",
    "    print(\"Sorry we only sell pizzas\")\r\n",
    "    \r\n",
    "    \r\n",
    "if pizza == \"yes\" and base == \"tomato\":\r\n",
    "    pepperoni = str(input(\"Do you want pepperoni? (yes/no)\"))\r\n",
    "else:\r\n",
    "    print(\"\")\r\n",
    "\r\n",
    "if pizza == \"yes\" and base ==\"tomato\" and pepperoni == \"yes\":\r\n",
    "    print(\"You have ordered a pepperoni pizza\")\r\n",
    "else:\r\n",
    "    print(\"\")\r\n",
    "\r\n",
    "if pizza == \"yes\" and base ==\"tomato\" and pepperoni == \"no\":\r\n",
    "    print(\"You have ordered a margherita pizza\")\r\n",
    "else:\r\n",
    "    print(\"\")\r\n",
    "\r\n",
    "if pizza == \"yes\" and base ==\"bbq\":\r\n",
    "    chicken = str(input(\"Do you want chicken? (yes/no)\"))\r\n",
    "else:\r\n",
    "    print(\"\")\r\n",
    "\r\n",
    "if pizza == \"yes\" and base ==\"bbq\" and chicken == \"yes\":\r\n",
    "    print(\"You have ordered a BBQ chicken pizza\")\r\n",
    "else:\r\n",
    "    print(\"\")\r\n",
    "\r\n",
    "if pizza == \"yes\" and base ==\"bbq\" and chicken == \"no\":\r\n",
    "    print(\"You have ordered a BBQ cheese pizza\")\r\n",
    "\r\n",
    "\r\n",
    "\r\n"
   ],
   "outputs": [
    {
     "output_type": "stream",
     "name": "stdout",
     "text": [
      "\n",
      "\n",
      "\n",
      "\n",
      "You have ordered a BBQ cheese pizza\n"
     ]
    }
   ],
   "metadata": {}
  },
  {
   "cell_type": "code",
   "execution_count": 12,
   "source": [
    "#TASK 2\r\n",
    "def function(price):\r\n",
    "    while price > 1000:\r\n",
    "        print(price)\r\n",
    "        price*= 0.9\r\n"
   ],
   "outputs": [],
   "metadata": {}
  },
  {
   "cell_type": "code",
   "execution_count": 13,
   "source": [
    "price = int(input(\"Input 2000 for the starting price\"))"
   ],
   "outputs": [],
   "metadata": {}
  },
  {
   "cell_type": "code",
   "execution_count": 14,
   "source": [
    "function(price)"
   ],
   "outputs": [
    {
     "output_type": "stream",
     "name": "stdout",
     "text": [
      "2000\n",
      "1800.0\n",
      "1620.0\n",
      "1458.0\n",
      "1312.2\n",
      "1180.98\n",
      "1062.882\n"
     ]
    }
   ],
   "metadata": {}
  },
  {
   "cell_type": "code",
   "execution_count": 31,
   "source": [
    "function(2000)"
   ],
   "outputs": [
    {
     "output_type": "stream",
     "name": "stdout",
     "text": [
      "2000\n",
      "1800.0\n",
      "1620.0\n",
      "1458.0\n",
      "1312.2\n",
      "1180.98\n",
      "1062.882\n"
     ]
    }
   ],
   "metadata": {}
  },
  {
   "cell_type": "code",
   "execution_count": 26,
   "source": [
    "#TASK 3\r\n",
    "\r\n",
    "def calculator(num1, num2, operator):\r\n",
    "    if operator == \"a\":\r\n",
    "        print(num1 + num2)\r\n",
    "    elif operator == \"b\":\r\n",
    "        print(num1 - num2)\r\n",
    "    elif operator == \"c\":\r\n",
    "        print(num1 * num2)\r\n",
    "    elif operator == \"d\":\r\n",
    "        print(num1 / num2)\r\n",
    "    else:\r\n",
    "        print(\"You have not chosen from the given choice of mathematical operators\")"
   ],
   "outputs": [],
   "metadata": {}
  },
  {
   "cell_type": "code",
   "execution_count": 27,
   "source": [
    "num1 = int(input(\"Choose your first number\"))\r\n",
    "num2 = int(input(\"Choose your second number\"))\r\n",
    "operator = str(input(\"\"\"choose from the following mathematical operators:\r\n",
    "                        a = addition\r\n",
    "                        b = subtraction\r\n",
    "                        c = multiplication\r\n",
    "                        d = division\"\"\"))"
   ],
   "outputs": [],
   "metadata": {}
  },
  {
   "cell_type": "code",
   "execution_count": 28,
   "source": [
    "calculator(num1, num2, operator)"
   ],
   "outputs": [
    {
     "output_type": "stream",
     "name": "stdout",
     "text": [
      "0.5\n"
     ]
    }
   ],
   "metadata": {}
  },
  {
   "cell_type": "code",
   "execution_count": 30,
   "source": [
    "calculator(2,2,\"a\")"
   ],
   "outputs": [
    {
     "output_type": "stream",
     "name": "stdout",
     "text": [
      "4\n"
     ]
    }
   ],
   "metadata": {}
  },
  {
   "cell_type": "code",
   "execution_count": null,
   "source": [],
   "outputs": [],
   "metadata": {}
  }
 ],
 "metadata": {
  "orig_nbformat": 4,
  "language_info": {
   "name": "python"
  }
 },
 "nbformat": 4,
 "nbformat_minor": 2
}