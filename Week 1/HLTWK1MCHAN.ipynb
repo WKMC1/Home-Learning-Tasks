{
 "cells": [
  {
   "cell_type": "code",
   "execution_count": 50,
   "source": [
    "# TASK 1\r\n",
    "\r\n",
    "import random\r\n",
    "\r\n",
    "name = input( \"What's your name?\")\r\n",
    "\r\n",
    "number = random.randint(1,10)\r\n",
    "\r\n",
    "print(name, 'can you guess what number between 1 and 10 I am thinking of?')\r\n",
    "\r\n",
    "guess = int(input(\"What's your guess?\"))\r\n",
    "\r\n",
    "if guess == number:\r\n",
    "    print(\"Well done\", name, \"you got it right!\")\r\n",
    "else:\r\n",
    "    print(\"Sorry\", name, \"better luck next time!\")"
   ],
   "outputs": [
    {
     "output_type": "stream",
     "name": "stdout",
     "text": [
      "Michael can you guess what number between 1 and 10 I am thinking of?\n",
      "Sorry Michael better luck next time!\n"
     ]
    }
   ],
   "metadata": {}
  },
  {
   "cell_type": "code",
   "execution_count": 45,
   "source": [
    "#Task 2\r\n",
    "\r\n",
    "number = int(input('What is your favourite number between 1 and 100?'))\r\n",
    "\r\n",
    "if (number == 6) or (number == 7) or (number == 8) or (number == 9):\r\n",
    "    print(\"Why is six scared of seven? Because seven, eight, nine!\")\r\n",
    "\r\n",
    "elif number % 2 != 0:\r\n",
    "    print(\"Do you know what's odd? Every alternate number!\")\r\n",
    "\r\n",
    "else:\r\n",
    "    print(\"Why do teens travel in a group of three or five or seven? Well, because they can't even!\")\r\n",
    "\r\n",
    "\r\n"
   ],
   "outputs": [
    {
     "output_type": "stream",
     "name": "stdout",
     "text": [
      "Why do teens travel in a group of three or five or seven? Well, because they can't even!\n"
     ]
    }
   ],
   "metadata": {}
  },
  {
   "cell_type": "code",
   "execution_count": 49,
   "source": [
    "#Task 3\r\n",
    "\r\n",
    "starter = str(input(\"What is your favourite starter?\"))\r\n",
    "main = str(input(\"What is your favourite main course?\"))\r\n",
    "dessert = str(input(\"What is your favourite dessert?\"))\r\n",
    "drink = str(input(\"What is your favourite drink?\"))\r\n",
    "\r\n",
    "print(\"Your favourite meal is\", starter,',', main,'and', dessert, 'with a glass of', drink)"
   ],
   "outputs": [
    {
     "output_type": "stream",
     "name": "stdout",
     "text": [
      "Your favourite meal is wings , duck and cake with a glass of coke\n"
     ]
    }
   ],
   "metadata": {}
  },
  {
   "cell_type": "code",
   "execution_count": 8,
   "source": [
    "#Task 4\r\n",
    "\r\n",
    "i = 2000\r\n",
    "\r\n",
    "while i > 1000:\r\n",
    "    print(i)\r\n",
    "    i*= 0.9\r\n",
    "\r\n"
   ],
   "outputs": [
    {
     "output_type": "stream",
     "name": "stdout",
     "text": [
      "2000\n",
      "1800.0\n",
      "1620.0\n",
      "1458.0\n",
      "1312.2\n",
      "1180.98\n",
      "1062.882\n"
     ]
    }
   ],
   "metadata": {}
  },
  {
   "cell_type": "code",
   "execution_count": 24,
   "source": [
    "#Task 5\r\n",
    "\r\n",
    "no1 = int(input('Enter the first number'))\r\n",
    "no2 = int(input('Enter the second number'))\r\n",
    "calc = input('''Input the letter corresponding to the calculation you want to perform:\r\n",
    "[a = addition]\r\n",
    "[b = subtraction]\r\n",
    "[c = division]\r\n",
    "[d = multiplication]\r\n",
    "[e = to the power of (indices)]''')\r\n",
    "\r\n",
    "if (calc == 'a') or (calc == \"A\"):\r\n",
    "    print(no1 + no2)\r\n",
    "elif (calc == 'b') or (calc == \"B\"):\r\n",
    "    print(no1 - no2)\r\n",
    "elif (calc == 'c') or (calc == \"C\"):\r\n",
    "    print(no1 / no2)\r\n",
    "elif (calc == 'd') or (calc == \"D\"):\r\n",
    "    print(no1 * no2)\r\n",
    "elif (calc == 'e') or (calc == \"E\"):\r\n",
    "    print(no1 ** no2)\r\n",
    "else:\r\n",
    "    print('Invalid calculation')\r\n"
   ],
   "outputs": [
    {
     "output_type": "stream",
     "name": "stdout",
     "text": [
      "8\n"
     ]
    }
   ],
   "metadata": {}
  },
  {
   "cell_type": "code",
   "execution_count": null,
   "source": [],
   "outputs": [],
   "metadata": {}
  }
 ],
 "metadata": {
  "interpreter": {
   "hash": "be14d16a8f397bfa99ef60aaee6870bfa8b2be5d12d386a09b48c46e69df6269"
  },
  "kernelspec": {
   "display_name": "Python 3.9.6 64-bit",
   "name": "python3"
  },
  "language_info": {
   "codemirror_mode": {
    "name": "ipython",
    "version": 3
   },
   "file_extension": ".py",
   "mimetype": "text/x-python",
   "name": "python",
   "nbconvert_exporter": "python",
   "pygments_lexer": "ipython3",
   "version": "3.9.6"
  },
  "orig_nbformat": 4
 },
 "nbformat": 4,
 "nbformat_minor": 2
}