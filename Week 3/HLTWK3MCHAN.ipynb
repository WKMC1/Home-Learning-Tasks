{
 "cells": [
  {
   "cell_type": "code",
   "execution_count": null,
   "source": [
    "#TASK 1\r\n",
    "\r\n",
    "numbers = open(\"Numbers.txt\", \"w\")\r\n",
    "\r\n",
    "no1 = int(input(\"Enter your 1st number\"))\r\n",
    "no2 = int(input(\"Enter your 2nd number\"))\r\n",
    "no3 = int(input(\"Enter your 3rd number\"))\r\n",
    "no4 = int(input(\"Enter your 4th number\"))\r\n",
    "\r\n",
    "\r\n",
    "numbers.write(str(no1))\r\n",
    "numbers.write(\"\\n\")\r\n",
    "numbers.write(str(no2))\r\n",
    "numbers.write(\"\\n\")\r\n",
    "numbers.write(str(no3))\r\n",
    "numbers.write(\"\\n\")\r\n",
    "numbers.write(str(no4))\r\n",
    "numbers.close()\r\n",
    "\r\n",
    "with open (\"Numbers.txt\",\"r\") as numbers:\r\n",
    "        data = numbers.read().replace('\\n',',')\r\n",
    "numbers.close()\r\n",
    "\r\n",
    "print(data)\r\n",
    "\r\n"
   ],
   "outputs": [],
   "metadata": {}
  },
  {
   "cell_type": "code",
   "execution_count": null,
   "source": [
    "#TASK 2\r\n",
    "def grade():\r\n",
    "\r\n",
    "    percent = int(input(\"what was your percentage mark?\"))\r\n",
    "\r\n",
    "    if 100 >= percent >= 80:\r\n",
    "        mark_grade = \"A\"\r\n",
    "    elif 80 > percent >= 70:\r\n",
    "        mark_grade = \"B\"\r\n",
    "    elif 70 > percent >= 60:\r\n",
    "        mark_grade =\"C\"\r\n",
    "    elif 60 > percent >= 50:\r\n",
    "        mark_grade =\"D\"\r\n",
    "    elif 50 > percent >= 0:\r\n",
    "        mark_grade =\"U\"\r\n",
    "    else:\r\n",
    "        mark_grade =\"please enter a number between 0 - 100\"\r\n",
    "\r\n",
    "\r\n",
    "    output = \"Your percentage mark of \" + str(percent) + \"% gives you a grade of \" + mark_grade\r\n",
    "\r\n",
    "    return output\r\n"
   ],
   "outputs": [],
   "metadata": {}
  },
  {
   "cell_type": "code",
   "execution_count": null,
   "source": [
    "message = grade()\r\n",
    "print(message)\r\n"
   ],
   "outputs": [],
   "metadata": {}
  },
  {
   "cell_type": "code",
   "execution_count": 238,
   "source": [
    "#TASK 2 Extension\r\n",
    "def compare():\r\n",
    "\r\n",
    "    percent = int(input(\"what was your percentage mark?\"))\r\n",
    "    target = input(\"What is your target grade? (A - U)\")\r\n",
    "\r\n",
    "    if 100 >= percent >= 80:\r\n",
    "        mark_grade = \"A\"\r\n",
    "        if target == mark_grade:\r\n",
    "            print(\"Congratulations you've hit your target!\")\r\n",
    "        elif target >= mark_grade:\r\n",
    "            print(\"Congratulations you've exceeded your target!\")\r\n",
    "        elif target < mark_grade:\r\n",
    "            print(\"Unfortunately you've missed your target\")\r\n",
    "        else:\r\n",
    "            print(\"Please enter a grade between A* and U in capitals\")\r\n",
    "    elif 80 > percent >= 70:\r\n",
    "        mark_grade = \"B\"\r\n",
    "        if target == mark_grade:\r\n",
    "            print(\"Congratulations you've hit your target!\")\r\n",
    "        elif target >= mark_grade:\r\n",
    "            print(\"Congratulations you've exceeded your target!\")\r\n",
    "        elif target < mark_grade:\r\n",
    "            print(\"Unfortunately you've missed your target\")\r\n",
    "        else:\r\n",
    "            print(\"Please enter a grade between A* and U in capitals\")\r\n",
    "    elif 70 > percent >= 60:\r\n",
    "        mark_grade =\"C\"\r\n",
    "        if target == mark_grade:\r\n",
    "            print(\"Congratulations you've hit your target!\")\r\n",
    "        elif target >= mark_grade:\r\n",
    "            print(\"Congratulations you've exceeded your target!\")\r\n",
    "        elif target < mark_grade:\r\n",
    "            print(\"Unfortunately you've missed your target\")\r\n",
    "        else:\r\n",
    "            print(\"Please enter a grade between A* and U in capitals\")\r\n",
    "    elif 60 > percent >= 50:\r\n",
    "        mark_grade =\"D\"\r\n",
    "        if target == mark_grade:\r\n",
    "            print(\"Congratulations you've hit your target!\")\r\n",
    "        elif target >= mark_grade:\r\n",
    "            print(\"Congratulations you've exceeded your target!\")\r\n",
    "        elif target < mark_grade:\r\n",
    "            print(\"Unfortunately you've missed your target\")\r\n",
    "        else:\r\n",
    "            print(\"Please enter a grade between A* and U in capitals\")\r\n",
    "    elif 50 > percent >= 0:\r\n",
    "        mark_grade =\"U\"\r\n",
    "        if target == mark_grade:\r\n",
    "            print(\"Congratulations you've hit your target!\")\r\n",
    "        elif target >= mark_grade:\r\n",
    "            print(\"Congratulations you've exceeded your target!\")\r\n",
    "        elif target < mark_grade:\r\n",
    "            print(\"Unfortunately you've missed your target\")\r\n",
    "        else:\r\n",
    "            print(\"Please enter a grade between A* and U in capitals\")\r\n",
    "    else:\r\n",
    "        mark_grade =\"please enter a number between 0 - 100\"\r\n",
    "\r\n",
    "    \r\n",
    "\r\n",
    "    output = \"Your percentage mark of \" + str(percent) + \"% gives you a grade of \" + mark_grade + \" and you target was \"+ target\r\n",
    "\r\n",
    "    return output"
   ],
   "outputs": [],
   "metadata": {}
  },
  {
   "cell_type": "code",
   "execution_count": 239,
   "source": [
    "message2 = compare()\r\n",
    "print(message2)"
   ],
   "outputs": [
    {
     "output_type": "stream",
     "name": "stdout",
     "text": [
      "Congratulations you've exceeded your target!\n",
      "Your percentage mark of 89% gives you a grade of A and you target was B\n"
     ]
    }
   ],
   "metadata": {}
  },
  {
   "cell_type": "code",
   "execution_count": 241,
   "source": [
    "#NUMPY TASKS\r\n",
    "#1\r\n",
    "\r\n",
    "import numpy as np\r\n",
    "\r\n",
    "array = np.arange(10)\r\n",
    "\r\n",
    "print(array)"
   ],
   "outputs": [
    {
     "output_type": "stream",
     "name": "stdout",
     "text": [
      "[0 1 2 3 4 5 6 7 8 9]\n"
     ]
    }
   ],
   "metadata": {}
  },
  {
   "cell_type": "code",
   "execution_count": 243,
   "source": [
    "#2\r\n",
    "import numpy as np\r\n",
    "array = np.array([True, True, True, True, True, True, True, True, True])\r\n",
    "\r\n",
    "newArray = array .reshape (3,3)\r\n",
    "print(newArray)\r\n"
   ],
   "outputs": [
    {
     "output_type": "stream",
     "name": "stdout",
     "text": [
      "[[ True  True  True]\n",
      " [ True  True  True]\n",
      " [ True  True  True]]\n"
     ]
    }
   ],
   "metadata": {}
  },
  {
   "cell_type": "code",
   "execution_count": 245,
   "source": [
    "#3\r\n",
    "import numpy as np\r\n",
    "\r\n",
    "array = np.arange(11)\r\n",
    "\r\n",
    "print(array)\r\n",
    "\r\n",
    "array2 = np.arange(1, 10, 2)\r\n",
    "print(array2)\r\n",
    "\r\n"
   ],
   "outputs": [
    {
     "output_type": "stream",
     "name": "stdout",
     "text": [
      "[ 0  1  2  3  4  5  6  7  8  9 10]\n",
      "[1 3 5 7 9]\n"
     ]
    }
   ],
   "metadata": {}
  },
  {
   "cell_type": "code",
   "execution_count": 249,
   "source": [
    "#4\r\n",
    "import numpy as np\r\n",
    "\r\n",
    "array = np.arange(11)\r\n",
    "array[array%2 == 1] = -1 \r\n",
    "\r\n",
    "print(array)"
   ],
   "outputs": [
    {
     "output_type": "stream",
     "name": "stdout",
     "text": [
      "[ 0 -1  2 -1  4 -1  6 -1  8 -1 10]\n"
     ]
    }
   ],
   "metadata": {}
  },
  {
   "cell_type": "code",
   "execution_count": 251,
   "source": [
    "#5\r\n",
    "import numpy as np\r\n",
    "\r\n",
    "array = np.arange(10)\r\n",
    "\r\n",
    "array2 = array.reshape(2,5)\r\n",
    "\r\n",
    "print(array2)\r\n"
   ],
   "outputs": [
    {
     "output_type": "stream",
     "name": "stdout",
     "text": [
      "[[0 1 2 3 4]\n",
      " [5 6 7 8 9]]\n"
     ]
    }
   ],
   "metadata": {}
  },
  {
   "cell_type": "code",
   "execution_count": 260,
   "source": [
    "#6\r\n",
    "\r\n",
    "import numpy as np\r\n",
    "\r\n",
    "a = np.arange (1,10)\r\n",
    "b = np.arange (11,20)\r\n",
    "c = np.dot(a,b)\r\n",
    "sum = np.sum (c)\r\n",
    "print(c)\r\n",
    "print(sum)"
   ],
   "outputs": [
    {
     "output_type": "stream",
     "name": "stdout",
     "text": [
      "735\n"
     ]
    }
   ],
   "metadata": {}
  }
 ],
 "metadata": {
  "orig_nbformat": 4,
  "language_info": {
   "name": "python",
   "version": "3.9.6",
   "mimetype": "text/x-python",
   "codemirror_mode": {
    "name": "ipython",
    "version": 3
   },
   "pygments_lexer": "ipython3",
   "nbconvert_exporter": "python",
   "file_extension": ".py"
  },
  "kernelspec": {
   "name": "python3",
   "display_name": "Python 3.9.6 64-bit"
  },
  "interpreter": {
   "hash": "be14d16a8f397bfa99ef60aaee6870bfa8b2be5d12d386a09b48c46e69df6269"
  }
 },
 "nbformat": 4,
 "nbformat_minor": 2
}